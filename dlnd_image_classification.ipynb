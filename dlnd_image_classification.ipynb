{
 "cells": [
  {
   "cell_type": "markdown",
   "metadata": {
    "collapsed": true,
    "deletable": true,
    "editable": true
   },
   "source": [
    "# Image Classification\n",
    "In this project, you'll classify images from the [CIFAR-10 dataset](https://www.cs.toronto.edu/~kriz/cifar.html).  The dataset consists of airplanes, dogs, cats, and other objects. You'll preprocess the images, then train a convolutional neural network on all the samples. The images need to be normalized and the labels need to be one-hot encoded.  You'll get to apply what you learned and build a convolutional, max pooling, dropout, and fully connected layers.  At the end, you'll get to see your neural network's predictions on the sample images.\n",
    "## Get the Data\n",
    "Run the following cell to download the [CIFAR-10 dataset for python](https://www.cs.toronto.edu/~kriz/cifar-10-python.tar.gz)."
   ]
  },
  {
   "cell_type": "code",
   "execution_count": 1,
   "metadata": {
    "collapsed": false,
    "deletable": true,
    "editable": true
   },
   "outputs": [
    {
     "name": "stderr",
     "output_type": "stream",
     "text": [
      "CIFAR-10 Dataset: 171MB [00:31, 5.38MB/s]                              \n"
     ]
    },
    {
     "name": "stdout",
     "output_type": "stream",
     "text": [
      "All files found!\n"
     ]
    }
   ],
   "source": [
    "\"\"\"\n",
    "DON'T MODIFY ANYTHING IN THIS CELL THAT IS BELOW THIS LINE\n",
    "\"\"\"\n",
    "from urllib.request import urlretrieve\n",
    "from os.path import isfile, isdir\n",
    "from tqdm import tqdm\n",
    "import problem_unittests as tests\n",
    "import tarfile\n",
    "\n",
    "cifar10_dataset_folder_path = 'cifar-10-batches-py'\n",
    "\n",
    "class DLProgress(tqdm):\n",
    "    last_block = 0\n",
    "\n",
    "    def hook(self, block_num=1, block_size=1, total_size=None):\n",
    "        self.total = total_size\n",
    "        self.update((block_num - self.last_block) * block_size)\n",
    "        self.last_block = block_num\n",
    "\n",
    "if not isfile('cifar-10-python.tar.gz'):\n",
    "    with DLProgress(unit='B', unit_scale=True, miniters=1, desc='CIFAR-10 Dataset') as pbar:\n",
    "        urlretrieve(\n",
    "            'https://www.cs.toronto.edu/~kriz/cifar-10-python.tar.gz',\n",
    "            'cifar-10-python.tar.gz',\n",
    "            pbar.hook)\n",
    "\n",
    "if not isdir(cifar10_dataset_folder_path):\n",
    "    with tarfile.open('cifar-10-python.tar.gz') as tar:\n",
    "        tar.extractall()\n",
    "        tar.close()\n",
    "\n",
    "\n",
    "tests.test_folder_path(cifar10_dataset_folder_path)"
   ]
  },
  {
   "cell_type": "markdown",
   "metadata": {
    "deletable": true,
    "editable": true
   },
   "source": [
    "## Explore the Data\n",
    "The dataset is broken into batches to prevent your machine from running out of memory.  The CIFAR-10 dataset consists of 5 batches, named `data_batch_1`, `data_batch_2`, etc.. Each batch contains the labels and images that are one of the following:\n",
    "* airplane\n",
    "* automobile\n",
    "* bird\n",
    "* cat\n",
    "* deer\n",
    "* dog\n",
    "* frog\n",
    "* horse\n",
    "* ship\n",
    "* truck\n",
    "\n",
    "Understanding a dataset is part of making predictions on the data.  Play around with the code cell below by changing the `batch_id` and `sample_id`. The `batch_id` is the id for a batch (1-5). The `sample_id` is the id for a image and label pair in the batch.\n",
    "\n",
    "Ask yourself \"What are all possible labels?\", \"What is the range of values for the image data?\", \"Are the labels in order or random?\".  Answers to questions like these will help you preprocess the data and end up with better predictions."
   ]
  },
  {
   "cell_type": "code",
   "execution_count": 2,
   "metadata": {
    "collapsed": false,
    "deletable": true,
    "editable": true
   },
   "outputs": [
    {
     "name": "stdout",
     "output_type": "stream",
     "text": [
      "\n",
      "Stats of batch 3:\n",
      "Samples: 10000\n",
      "Label Counts: {0: 994, 1: 1042, 2: 965, 3: 997, 4: 990, 5: 1029, 6: 978, 7: 1015, 8: 961, 9: 1029}\n",
      "First 20 Labels: [8, 5, 0, 6, 9, 2, 8, 3, 6, 2, 7, 4, 6, 9, 0, 0, 7, 3, 7, 2]\n",
      "\n",
      "Example of Image 5:\n",
      "Image - Min Value: 9 Max Value: 255\n",
      "Image - Shape: (32, 32, 3)\n",
      "Label - Label Id: 2 Name: bird\n"
     ]
    },
    {
     "data": {
      "image/png": "[encoded data removed]",
      "text/plain": [
       "<matplotlib.figure.Figure at 0x7f107ee2ab38>"
      ]
     },
     "metadata": {
      "image/png": {
       "height": 250,
       "width": 253
      }
     },
     "output_type": "display_data"
    }
   ],
   "source": [
    "%matplotlib inline\n",
    "%config InlineBackend.figure_format = 'retina'\n",
    "\n",
    "import helper\n",
    "import numpy as np\n",
    "\n",
    "# Explore the dataset\n",
    "batch_id = 3\n",
    "sample_id = 5\n",
    "helper.display_stats(cifar10_dataset_folder_path, batch_id, sample_id)"
   ]
  },
  {
   "cell_type": "markdown",
   "metadata": {
    "deletable": true,
    "editable": true
   },
   "source": [
    "## Implement Preprocess Functions\n",
    "### Normalize\n",
    "In the cell below, implement the `normalize` function to take in image data, `x`, and return it as a normalized Numpy array. The values should be in the range of 0 to 1, inclusive.  The return object should be the same shape as `x`."
   ]
  },
  {
   "cell_type": "code",
   "execution_count": 3,
   "metadata": {
    "collapsed": false,
    "deletable": true,
    "editable": true
   },
   "outputs": [
    {
     "name": "stdout",
     "output_type": "stream",
     "text": [
      "Tests Passed\n"
     ]
    }
   ],
   "source": [
    "def normalize(x):\n",
    "    \"\"\"\n",
    "    Normalize a list of sample image data in the range of 0 to 1\n",
    "    : x: List of image data.  The image shape is (32, 32, 3)\n",
    "    : return: Numpy array of normalize data\n",
    "    \"\"\"\n",
    "    # TODO: Implement Function\n",
    "    v = []\n",
    "    for i in range(len(x)):\n",
    "        v.append((x[i] / 255))\n",
    "        \n",
    "    return np.array(v)    \n",
    "\n",
    "\n",
    "\n",
    "\"\"\"\n",
    "DON'T MODIFY ANYTHING IN THIS CELL THAT IS BELOW THIS LINE\n",
    "\"\"\"\n",
    "tests.test_normalize(normalize)"
   ]
  },
  {
   "cell_type": "markdown",
   "metadata": {
    "deletable": true,
    "editable": true
   },
   "source": [
    "### One-hot encode\n",
    "Just like the previous code cell, you'll be implementing a function for preprocessing.  This time, you'll implement the `one_hot_encode` function. The input, `x`, are a list of labels.  Implement the function to return the list of labels as One-Hot encoded Numpy array.  The possible values for labels are 0 to 9. The one-hot encoding function should return the same encoding for each value between each call to `one_hot_encode`.  Make sure to save the map of encodings outside the function.\n",
    "\n",
    "Hint: Don't reinvent the wheel."
   ]
  },
  {
   "cell_type": "code",
   "execution_count": 4,
   "metadata": {
    "collapsed": false,
    "deletable": true,
    "editable": true
   },
   "outputs": [
    {
     "name": "stdout",
     "output_type": "stream",
     "text": [
      "Tests Passed\n"
     ]
    }
   ],
   "source": [
    "def one_hot_encode(x):\n",
    "    \"\"\"\n",
    "    One hot encode a list of sample labels. Return a one-hot encoded vector for each label.\n",
    "    : x: List of sample Labels\n",
    "    : return: Numpy array of one-hot encoded labels\n",
    "    \"\"\"\n",
    "    # TODO: Implement Function\n",
    "    return np.eye(10)[x]\n",
    "    #lv = np.zeros((len(x),10), dtype=np.int)\n",
    "\n",
    "    #for i in range(len(x)):\n",
    "    #    for j in range(10):\n",
    "    #        diff = abs(x[i] - float(j))\n",
    "    #        if ((diff < 0.5)):\n",
    "    #            lv[i,j] = 1\n",
    "    #        else:\n",
    "    #            lv[i,j] = 0\n",
    "    #    \n",
    "    #return lv\n",
    "\n",
    "\n",
    "\"\"\"\n",
    "DON'T MODIFY ANYTHING IN THIS CELL THAT IS BELOW THIS LINE\n",
    "\"\"\"\n",
    "tests.test_one_hot_encode(one_hot_encode)"
   ]
  },
  {
   "cell_type": "markdown",
   "metadata": {
    "deletable": true,
    "editable": true
   },
   "source": [
    "### Randomize Data\n",
    "As you saw from exploring the data above, the order of the samples are randomized.  It doesn't hurt to randomize it again, but you don't need to for this dataset."
   ]
  },
  {
   "cell_type": "markdown",
   "metadata": {
    "deletable": true,
    "editable": true
   },
   "source": [
    "## Preprocess all the data and save it\n",
    "Running the code cell below will preprocess all the CIFAR-10 data and save it to file. The code below also uses 10% of the training data for validation."
   ]
  },
  {
   "cell_type": "code",
   "execution_count": 5,
   "metadata": {
    "collapsed": false,
    "deletable": true,
    "editable": true
   },
   "outputs": [],
   "source": [
    "\"\"\"\n",
    "DON'T MODIFY ANYTHING IN THIS CELL\n",
    "\"\"\"\n",
    "# Preprocess Training, Validation, and Testing Data\n",
    "helper.preprocess_and_save_data(cifar10_dataset_folder_path, normalize, one_hot_encode)"
   ]
  },
  {
   "cell_type": "markdown",
   "metadata": {
    "deletable": true,
    "editable": true
   },
   "source": [
    "# Check Point\n",
    "This is your first checkpoint.  If you ever decide to come back to this notebook or have to restart the notebook, you can start from here.  The preprocessed data has been saved to disk."
   ]
  },
  {
   "cell_type": "code",
   "execution_count": 6,
   "metadata": {
    "collapsed": true,
    "deletable": true,
    "editable": true
   },
   "outputs": [],
   "source": [
    "\"\"\"\n",
    "DON'T MODIFY ANYTHING IN THIS CELL\n",
    "\"\"\"\n",
    "import pickle\n",
    "import problem_unittests as tests\n",
    "import helper\n",
    "\n",
    "# Load the Preprocessed Validation data\n",
    "valid_features, valid_labels = pickle.load(open('preprocess_validation.p', mode='rb'))"
   ]
  },
  {
   "cell_type": "markdown",
   "metadata": {
    "deletable": true,
    "editable": true
   },
   "source": [
    "## Build the network\n",
    "For the neural network, you'll build each layer into a function.  Most of the code you've seen has been outside of functions. To test your code more thoroughly, we require that you put each layer in a function.  This allows us to give you better feedback and test for simple mistakes using our unittests before you submit your project.\n",
    "\n",
    ">**Note:** If you're finding it hard to dedicate enough time for this course each week, we've provided a small shortcut to this part of the project. In the next couple of problems, you'll have the option to use classes from the [TensorFlow Layers](https://www.tensorflow.org/api_docs/python/tf/layers) or [TensorFlow Layers (contrib)](https://www.tensorflow.org/api_guides/python/contrib.layers) packages to build each layer, except the layers you build in the \"Convolutional and Max Pooling Layer\" section.  TF Layers is similar to Keras's and TFLearn's abstraction to layers, so it's easy to pickup.\n",
    "\n",
    ">However, if you would like to get the most out of this course, try to solve all the problems _without_ using anything from the TF Layers packages. You **can** still use classes from other packages that happen to have the same name as ones you find in TF Layers! For example, instead of using the TF Layers version of the `conv2d` class, [tf.layers.conv2d](https://www.tensorflow.org/api_docs/python/tf/layers/conv2d), you would want to use the TF Neural Network version of `conv2d`, [tf.nn.conv2d](https://www.tensorflow.org/api_docs/python/tf/nn/conv2d). \n",
    "\n",
    "Let's begin!\n",
    "\n",
    "### Input\n",
    "The neural network needs to read the image data, one-hot encoded labels, and dropout keep probability. Implement the following functions\n",
    "* Implement `neural_net_image_input`\n",
    " * Return a [TF Placeholder](https://www.tensorflow.org/api_docs/python/tf/placeholder)\n",
    " * Set the shape using `image_shape` with batch size set to `None`.\n",
    " * Name the TensorFlow placeholder \"x\" using the TensorFlow `name` parameter in the [TF Placeholder](https://www.tensorflow.org/api_docs/python/tf/placeholder).\n",
    "* Implement `neural_net_label_input`\n",
    " * Return a [TF Placeholder](https://www.tensorflow.org/api_docs/python/tf/placeholder)\n",
    " * Set the shape using `n_classes` with batch size set to `None`.\n",
    " * Name the TensorFlow placeholder \"y\" using the TensorFlow `name` parameter in the [TF Placeholder](https://www.tensorflow.org/api_docs/python/tf/placeholder).\n",
    "* Implement `neural_net_keep_prob_input`\n",
    " * Return a [TF Placeholder](https://www.tensorflow.org/api_docs/python/tf/placeholder) for dropout keep probability.\n",
    " * Name the TensorFlow placeholder \"keep_prob\" using the TensorFlow `name` parameter in the [TF Placeholder](https://www.tensorflow.org/api_docs/python/tf/placeholder).\n",
    "\n",
    "These names will be used at the end of the project to load your saved model.\n",
    "\n",
    "Note: `None` for shapes in TensorFlow allow for a dynamic size."
   ]
  },
  {
   "cell_type": "code",
   "execution_count": 7,
   "metadata": {
    "collapsed": false,
    "deletable": true,
    "editable": true
   },
   "outputs": [
    {
     "name": "stdout",
     "output_type": "stream",
     "text": [
      "Image Input Tests Passed.\n",
      "Label Input Tests Passed.\n",
      "Keep Prob Tests Passed.\n"
     ]
    }
   ],
   "source": [
    "import tensorflow as tf\n",
    "\n",
    "def neural_net_image_input(image_shape):\n",
    "    \"\"\"\n",
    "    Return a Tensor for a batch of image input\n",
    "    : image_shape: Shape of the images\n",
    "    : return: Tensor for image input.\n",
    "    \"\"\"\n",
    "    # TODO: Implement Function\n",
    "    x = tf.placeholder(tf.float32, [None, image_shape[0], image_shape[1], image_shape[2]], name=\"x\")\n",
    "    return x\n",
    "\n",
    "\n",
    "def neural_net_label_input(n_classes):\n",
    "    \"\"\"\n",
    "    Return a Tensor for a batch of label input\n",
    "    : n_classes: Number of classes\n",
    "    : return: Tensor for label input.\n",
    "    \"\"\"\n",
    "    # TODO: Implement Function\n",
    "    y = tf.placeholder(tf.float32, [None, n_classes], name=\"y\")    \n",
    "    \n",
    "    return y\n",
    "\n",
    "\n",
    "def neural_net_keep_prob_input():\n",
    "    \"\"\"\n",
    "    Return a Tensor for keep probability\n",
    "    : return: Tensor for keep probability.\n",
    "    \"\"\"\n",
    "    # TODO: Implement Function\n",
    "    keep_prob = tf.placeholder(tf.float32, name=\"keep_prob\") \n",
    "    \n",
    "    return keep_prob\n",
    "\n",
    "\n",
    "\"\"\"\n",
    "DON'T MODIFY ANYTHING IN THIS CELL THAT IS BELOW THIS LINE\n",
    "\"\"\"\n",
    "tf.reset_default_graph()\n",
    "tests.test_nn_image_inputs(neural_net_image_input)\n",
    "tests.test_nn_label_inputs(neural_net_label_input)\n",
    "tests.test_nn_keep_prob_inputs(neural_net_keep_prob_input)"
   ]
  },
  {
   "cell_type": "markdown",
   "metadata": {
    "deletable": true,
    "editable": true
   },
   "source": [
    "### Convolution and Max Pooling Layer\n",
    "Convolution layers have a lot of success with images. For this code cell, you should implement the function `conv2d_maxpool` to apply convolution then max pooling:\n",
    "* Create the weight and bias using `conv_ksize`, `conv_num_outputs` and the shape of `x_tensor`.\n",
    "* Apply a convolution to `x_tensor` using weight and `conv_strides`.\n",
    " * We recommend you use same padding, but you're welcome to use any padding.\n",
    "* Add bias\n",
    "* Add a nonlinear activation to the convolution.\n",
    "* Apply Max Pooling using `pool_ksize` and `pool_strides`.\n",
    " * We recommend you use same padding, but you're welcome to use any padding.\n",
    "\n",
    "**Note:** You **can't** use [TensorFlow Layers](https://www.tensorflow.org/api_docs/python/tf/layers) or [TensorFlow Layers (contrib)](https://www.tensorflow.org/api_guides/python/contrib.layers) for **this** layer, but you can still use TensorFlow's [Neural Network](https://www.tensorflow.org/api_docs/python/tf/nn) package. You may still use the shortcut option for all the **other** layers."
   ]
  },
  {
   "cell_type": "code",
   "execution_count": 8,
   "metadata": {
    "collapsed": false,
    "deletable": true,
    "editable": true
   },
   "outputs": [
    {
     "name": "stdout",
     "output_type": "stream",
     "text": [
      "Tests Passed\n"
     ]
    }
   ],
   "source": [
    "def conv2d_maxpool(x_tensor, conv_num_outputs, conv_ksize, conv_strides, pool_ksize, pool_strides):\n",
    "    \"\"\"\n",
    "    Apply convolution then max pooling to x_tensor\n",
    "    :param x_tensor: TensorFlow Tensor\n",
    "    :param conv_num_outputs: Number of outputs for the convolutional layer\n",
    "    :param conv_ksize: kernal size 2-D Tuple for the convolutional layer\n",
    "    :param conv_strides: Stride 2-D Tuple for convolution\n",
    "    :param pool_ksize: kernal size 2-D Tuple for pool\n",
    "    :param pool_strides: Stride 2-D Tuple for pool\n",
    "    : return: A tensor that represents convolution and max pooling of x_tensor\n",
    "    \"\"\"\n",
    "    # TODO: Implement Function\n",
    "    #print(\"x.shape\",x_tensor.shape)\n",
    "    #print(\"conv_ksize\",conv_ksize)\n",
    "    input_channels = tf.cast(x_tensor.shape[3], tf.int32)\n",
    "    weight = tf.Variable(tf.truncated_normal(\n",
    "        [conv_ksize[0], conv_ksize[1], input_channels, conv_num_outputs], stddev=0.1))\n",
    "    bias = tf.Variable(tf.zeros(conv_num_outputs))\n",
    "    #print(weight)\n",
    "    \n",
    "    conv_layer = tf.nn.conv2d(x_tensor, \n",
    "                              weight, \n",
    "                              strides=[1, conv_strides[0], conv_strides[1], 1], \n",
    "                              padding='SAME')\n",
    "    conv_layer = tf.nn.elu(tf.nn.bias_add(conv_layer,bias))\n",
    "    \n",
    "    #print(\"conv.shape\", conv_layer.shape)\n",
    "    # Apply Max Pooling\n",
    "    #print(\"pool_ksize\", pool_ksize)\n",
    "    conv_layer = tf.nn.max_pool(\n",
    "        conv_layer,\n",
    "        ksize=[1, pool_ksize[0], pool_ksize[1], 1],\n",
    "        strides=[1, pool_strides[0], pool_strides[1], 1],\n",
    "        padding='SAME')    \n",
    "    \n",
    "    #print(\"conv.shape\", conv_layer.shape)\n",
    "    \n",
    "    return conv_layer \n",
    "\n",
    "\n",
    "\"\"\"\n",
    "DON'T MODIFY ANYTHING IN THIS CELL THAT IS BELOW THIS LINE\n",
    "\"\"\"\n",
    "tests.test_con_pool(conv2d_maxpool)"
   ]
  },
  {
   "cell_type": "markdown",
   "metadata": {
    "deletable": true,
    "editable": true
   },
   "source": [
    "### Flatten Layer\n",
    "Implement the `flatten` function to change the dimension of `x_tensor` from a 4-D tensor to a 2-D tensor.  The output should be the shape (*Batch Size*, *Flattened Image Size*). Shortcut option: you can use classes from the [TensorFlow Layers](https://www.tensorflow.org/api_docs/python/tf/layers) or [TensorFlow Layers (contrib)](https://www.tensorflow.org/api_guides/python/contrib.layers) packages for this layer. For more of a challenge, only use other TensorFlow packages."
   ]
  },
  {
   "cell_type": "code",
   "execution_count": 9,
   "metadata": {
    "collapsed": false,
    "deletable": true,
    "editable": true
   },
   "outputs": [
    {
     "name": "stdout",
     "output_type": "stream",
     "text": [
      "Tests Passed\n"
     ]
    }
   ],
   "source": [
    "def flatten(x_tensor):\n",
    "    \"\"\"\n",
    "    Flatten x_tensor to (Batch Size, Flattened Image Size)\n",
    "    : x_tensor: A tensor of size (Batch Size, ...), where ... are the image dimensions.\n",
    "    : return: A tensor of size (Batch Size, Flattened Image Size).\n",
    "    \"\"\"\n",
    "    # TODO: Implement Function\n",
    "    dim_h = x_tensor.get_shape().as_list()\n",
    "    fl_size = int(dim_h[1] * dim_h[2] * dim_h[3])\n",
    "    #fl = tf.placeholder(tf.float32, [None, fl_size])    \n",
    "    \n",
    "    return tf.reshape(x_tensor,(-1,fl_size))\n",
    "\n",
    "\n",
    "\"\"\"\n",
    "DON'T MODIFY ANYTHING IN THIS CELL THAT IS BELOW THIS LINE\n",
    "\"\"\"\n",
    "tests.test_flatten(flatten)"
   ]
  },
  {
   "cell_type": "markdown",
   "metadata": {
    "deletable": true,
    "editable": true
   },
   "source": [
    "### Fully-Connected Layer\n",
    "Implement the `fully_conn` function to apply a fully connected layer to `x_tensor` with the shape (*Batch Size*, *num_outputs*). Shortcut option: you can use classes from the [TensorFlow Layers](https://www.tensorflow.org/api_docs/python/tf/layers) or [TensorFlow Layers (contrib)](https://www.tensorflow.org/api_guides/python/contrib.layers) packages for this layer. For more of a challenge, only use other TensorFlow packages."
   ]
  },
  {
   "cell_type": "code",
   "execution_count": 10,
   "metadata": {
    "collapsed": false,
    "deletable": true,
    "editable": true
   },
   "outputs": [
    {
     "name": "stdout",
     "output_type": "stream",
     "text": [
      "Tests Passed\n"
     ]
    }
   ],
   "source": [
    "def fully_conn(x_tensor, num_outputs):\n",
    "    \"\"\"\n",
    "    Apply a fully connected layer to x_tensor using weight and bias\n",
    "    : x_tensor: A 2-D tensor where the first dimension is batch size.\n",
    "    : num_outputs: The number of output that the new tensor should be.\n",
    "    : return: A 2-D tensor where the second dimension is num_outputs.\n",
    "    \"\"\"\n",
    "    # TODO: Implement Function\n",
    "    hsize = tf.cast(x_tensor.shape[1], tf.int32)\n",
    " \n",
    "    weight = tf.Variable(tf.random_normal(\n",
    "        [hsize, num_outputs], stddev=0.1))\n",
    "    bias = tf.Variable(tf.zeros(num_outputs))\n",
    "\n",
    "    fc = tf.nn.elu(tf.add(tf.matmul(x_tensor, weight), bias))\n",
    "    \n",
    "    return fc\n",
    "\n",
    "\n",
    "\"\"\"\n",
    "DON'T MODIFY ANYTHING IN THIS CELL THAT IS BELOW THIS LINE\n",
    "\"\"\"\n",
    "tests.test_fully_conn(fully_conn)"
   ]
  },
  {
   "cell_type": "markdown",
   "metadata": {
    "deletable": true,
    "editable": true
   },
   "source": [
    "### Output Layer\n",
    "Implement the `output` function to apply a fully connected layer to `x_tensor` with the shape (*Batch Size*, *num_outputs*). Shortcut option: you can use classes from the [TensorFlow Layers](https://www.tensorflow.org/api_docs/python/tf/layers) or [TensorFlow Layers (contrib)](https://www.tensorflow.org/api_guides/python/contrib.layers) packages for this layer. For more of a challenge, only use other TensorFlow packages.\n",
    "\n",
    "**Note:** Activation, softmax, or cross entropy should **not** be applied to this."
   ]
  },
  {
   "cell_type": "code",
   "execution_count": 11,
   "metadata": {
    "collapsed": false,
    "deletable": true,
    "editable": true
   },
   "outputs": [
    {
     "name": "stdout",
     "output_type": "stream",
     "text": [
      "Tests Passed\n"
     ]
    }
   ],
   "source": [
    "def output(x_tensor, num_outputs):\n",
    "    \"\"\"\n",
    "    Apply a output layer to x_tensor using weight and bias\n",
    "    : x_tensor: A 2-D tensor where the first dimension is batch size.\n",
    "    : num_outputs: The number of output that the new tensor should be.\n",
    "    : return: A 2-D tensor where the second dimension is num_outputs.\n",
    "    \"\"\"\n",
    "    # TODO: Implement Function\n",
    "    hsize = tf.cast(x_tensor.shape[1], tf.int32)\n",
    " \n",
    "    weight = tf.Variable(tf.random_normal(\n",
    "        [hsize, num_outputs]))\n",
    "    bias = tf.Variable(tf.zeros(num_outputs))\n",
    "\n",
    "    out = tf.add(tf.matmul(x_tensor, weight), bias)\n",
    "    #out = tf.nn.softmax(out)\n",
    "   \n",
    "    return out\n",
    "\n",
    "\n",
    "\"\"\"\n",
    "DON'T MODIFY ANYTHING IN THIS CELL THAT IS BELOW THIS LINE\n",
    "\"\"\"\n",
    "tests.test_output(output)"
   ]
  },
  {
   "cell_type": "markdown",
   "metadata": {
    "deletable": true,
    "editable": true
   },
   "source": [
    "### Create Convolutional Model\n",
    "Implement the function `conv_net` to create a convolutional neural network model. The function takes in a batch of images, `x`, and outputs logits.  Use the layers you created above to create this model:\n",
    "\n",
    "* Apply 1, 2, or 3 Convolution and Max Pool layers\n",
    "* Apply a Flatten Layer\n",
    "* Apply 1, 2, or 3 Fully Connected Layers\n",
    "* Apply an Output Layer\n",
    "* Return the output\n",
    "* Apply [TensorFlow's Dropout](https://www.tensorflow.org/api_docs/python/tf/nn/dropout) to one or more layers in the model using `keep_prob`. "
   ]
  },
  {
   "cell_type": "code",
   "execution_count": 12,
   "metadata": {
    "collapsed": false,
    "deletable": true,
    "editable": true
   },
   "outputs": [
    {
     "name": "stdout",
     "output_type": "stream",
     "text": [
      "Neural Network Built!\n"
     ]
    }
   ],
   "source": [
    "def conv_net(x, keep_prob):\n",
    "    \"\"\"\n",
    "    Create a convolutional neural network model\n",
    "    : x: Placeholder tensor that holds image data.\n",
    "    : keep_prob: Placeholder tensor that hold dropout keep probability.\n",
    "    : return: Tensor that represents logits\n",
    "    \"\"\"\n",
    "    # TODO: Apply 1, 2, or 3 Convolution and Max Pool layers\n",
    "    #    Play around with different number of outputs, kernel size and stride\n",
    "    # Function Definition from Above:\n",
    "    #    conv2d_maxpool(x_tensor, conv_num_outputs, conv_ksize, conv_strides, pool_ksize, pool_strides)\n",
    "    #print(\"x.shape\",x.shape)\n",
    "    conv_num_outputs = 64\n",
    "    conv_ksize = [2, 2]\n",
    "    conv_strides = [1, 1, 1, 1]\n",
    "    pool_ksize = [2, 2]\n",
    "    pool_strides = [1, 2, 2, 1]\n",
    "    conv1 = conv2d_maxpool(x, conv_num_outputs, conv_ksize, conv_strides, pool_ksize, pool_strides)\n",
    "    #print(\"shape conv1\", conv1.shape)\n",
    "    \n",
    "    conv_num_outputs = 128    \n",
    "    conv_strides = [1, 2, 2, 1]\n",
    "    conv_ksize = [2, 2]\n",
    "    conv2 = conv2d_maxpool(conv1, conv_num_outputs, conv_ksize, conv_strides, pool_ksize, pool_strides)\n",
    "    #print(\"shape conv2\", conv2.shape)\n",
    "\n",
    "    conv_num_outputs = 256    \n",
    "    conv3 = conv2d_maxpool(conv2, conv_num_outputs, conv_ksize, conv_strides, pool_ksize, pool_strides)\n",
    "\n",
    "\n",
    "    # TODO: Apply a Flatten Layer\n",
    "    # Function Definition from Above:\n",
    "    #   flatten(x_tensor)\n",
    "    fl = flatten(conv3)\n",
    "    #print(\"shape flatten\", fl.shape)\n",
    "\n",
    "    # TODO: Apply 1, 2, or 3 Fully Connected Layers\n",
    "    #    Play around with different number of outputs\n",
    "    # Function Definition from Above:\n",
    "    #   fully_conn(x_tensor, num_outputs)\n",
    "    fc_num_outputs = 512\n",
    "    fc1 = fully_conn(fl, fc_num_outputs)\n",
    "    fc1 = tf.nn.dropout(fc1, keep_prob)\n",
    "    \n",
    "    fc_num_outputs = 1024\n",
    "    fc2 = fully_conn(fc1, fc_num_outputs)\n",
    "    fc2 = tf.nn.dropout(fc2, keep_prob)\n",
    "\n",
    "    #fc_num_outputs = 2048\n",
    "    #fc3 = fully_conn(fc2, fc_num_outputs)\n",
    "    #fc3 = tf.nn.dropout(fc3, keep_prob)\n",
    "\n",
    "\n",
    "    #print(\"shape fully con\", fc1.shape)\n",
    "    \n",
    "    # TODO: Apply an Output Layer\n",
    "    #    Set this to the number of classes\n",
    "    # Function Definition from Above:\n",
    "    #   output(x_tensor, num_outputs)\n",
    "    num_outputs = 10\n",
    "    out = output(fc2, num_outputs)\n",
    "    #print(\"shape out\", out.shape)\n",
    "    \n",
    "    # TODO: return output\n",
    "    return out\n",
    "\n",
    "\n",
    "\"\"\"\n",
    "DON'T MODIFY ANYTHING IN THIS CELL THAT IS BELOW THIS LINE\n",
    "\"\"\"\n",
    "\n",
    "##############################\n",
    "## Build the Neural Network ##\n",
    "##############################\n",
    "\n",
    "# Remove previous weights, bias, inputs, etc..\n",
    "tf.reset_default_graph()\n",
    "\n",
    "# Inputs\n",
    "x = neural_net_image_input((32, 32, 3))\n",
    "y = neural_net_label_input(10)\n",
    "keep_prob = neural_net_keep_prob_input()\n",
    "\n",
    "# Model\n",
    "logits = conv_net(x, keep_prob)\n",
    "\n",
    "# Name logits Tensor, so that is can be loaded from disk after training\n",
    "logits = tf.identity(logits, name='logits')\n",
    "\n",
    "# Loss and Optimizer\n",
    "cost = tf.reduce_mean(tf.nn.softmax_cross_entropy_with_logits(logits=logits, labels=y))\n",
    "optimizer = tf.train.AdamOptimizer().minimize(cost)\n",
    "\n",
    "# Accuracy\n",
    "correct_pred = tf.equal(tf.argmax(logits, 1), tf.argmax(y, 1))\n",
    "accuracy = tf.reduce_mean(tf.cast(correct_pred, tf.float32), name='accuracy')\n",
    "\n",
    "tests.test_conv_net(conv_net)"
   ]
  },
  {
   "cell_type": "markdown",
   "metadata": {
    "deletable": true,
    "editable": true
   },
   "source": [
    "## Train the Neural Network\n",
    "### Single Optimization\n",
    "Implement the function `train_neural_network` to do a single optimization.  The optimization should use `optimizer` to optimize in `session` with a `feed_dict` of the following:\n",
    "* `x` for image input\n",
    "* `y` for labels\n",
    "* `keep_prob` for keep probability for dropout\n",
    "\n",
    "This function will be called for each batch, so `tf.global_variables_initializer()` has already been called.\n",
    "\n",
    "Note: Nothing needs to be returned. This function is only optimizing the neural network."
   ]
  },
  {
   "cell_type": "code",
   "execution_count": 13,
   "metadata": {
    "collapsed": false,
    "deletable": true,
    "editable": true
   },
   "outputs": [
    {
     "name": "stdout",
     "output_type": "stream",
     "text": [
      "Tests Passed\n"
     ]
    }
   ],
   "source": [
    "def train_neural_network(session, optimizer, keep_probability, feature_batch, label_batch):\n",
    "    \"\"\"\n",
    "    Optimize the session on a batch of images and labels\n",
    "    : session: Current TensorFlow session\n",
    "    : optimizer: TensorFlow optimizer function\n",
    "    : keep_probability: keep probability\n",
    "    : feature_batch: Batch of Numpy image data\n",
    "    : label_batch: Batch of Numpy label data\n",
    "    \"\"\"\n",
    "    # TODO: Implement Function\n",
    "    #print(keep_probability)\n",
    "    session.run(optimizer, feed_dict={\n",
    "        x: feature_batch, \n",
    "        y: label_batch, \n",
    "        keep_prob: keep_probability})    \n",
    "\n",
    "\n",
    "\"\"\"\n",
    "DON'T MODIFY ANYTHING IN THIS CELL THAT IS BELOW THIS LINE\n",
    "\"\"\"\n",
    "tests.test_train_nn(train_neural_network)"
   ]
  },
  {
   "cell_type": "markdown",
   "metadata": {
    "deletable": true,
    "editable": true
   },
   "source": [
    "### Show Stats\n",
    "Implement the function `print_stats` to print loss and validation accuracy.  Use the global variables `valid_features` and `valid_labels` to calculate validation accuracy.  Use a keep probability of `1.0` to calculate the loss and validation accuracy."
   ]
  },
  {
   "cell_type": "code",
   "execution_count": 14,
   "metadata": {
    "collapsed": false,
    "deletable": true,
    "editable": true
   },
   "outputs": [],
   "source": [
    "def print_stats(session, feature_batch, label_batch, cost, accuracy):\n",
    "    \"\"\"\n",
    "    Print information about loss and validation accuracy\n",
    "    : session: Current TensorFlow session\n",
    "    : feature_batch: Batch of Numpy image data\n",
    "    : label_batch: Batch of Numpy label data\n",
    "    : cost: TensorFlow cost function\n",
    "    : accuracy: TensorFlow accuracy function\n",
    "    \"\"\"\n",
    "    # TODO: Implement Function\n",
    "    loss = session.run(cost, feed_dict={\n",
    "        x: feature_batch,\n",
    "        y: label_batch,\n",
    "        keep_prob: 1.})\n",
    "    valid_acc = sess.run(accuracy, feed_dict={\n",
    "        x: valid_features,\n",
    "        y: valid_labels,\n",
    "        keep_prob: 1.})\n",
    "\n",
    "    print('Loss: {:>10.4f} Validation Accuracy: {:.6f}'.format(\n",
    "        loss,\n",
    "        valid_acc))\n"
   ]
  },
  {
   "cell_type": "markdown",
   "metadata": {
    "deletable": true,
    "editable": true
   },
   "source": [
    "### Hyperparameters\n",
    "Tune the following parameters:\n",
    "* Set `epochs` to the number of iterations until the network stops learning or start overfitting\n",
    "* Set `batch_size` to the highest number that your machine has memory for.  Most people set them to common sizes of memory:\n",
    " * 64\n",
    " * 128\n",
    " * 256\n",
    " * ...\n",
    "* Set `keep_probability` to the probability of keeping a node using dropout"
   ]
  },
  {
   "cell_type": "code",
   "execution_count": 15,
   "metadata": {
    "collapsed": false,
    "deletable": true,
    "editable": true
   },
   "outputs": [],
   "source": [
    "# TODO: Tune Parameters\n",
    "epochs = 30\n",
    "batch_size = 128\n",
    "keep_probability = .75 #np.random.rand(1)"
   ]
  },
  {
   "cell_type": "markdown",
   "metadata": {
    "deletable": true,
    "editable": true
   },
   "source": [
    "### Train on a Single CIFAR-10 Batch\n",
    "Instead of training the neural network on all the CIFAR-10 batches of data, let's use a single batch. This should save time while you iterate on the model to get a better accuracy.  Once the final validation accuracy is 50% or greater, run the model on all the data in the next section."
   ]
  },
  {
   "cell_type": "code",
   "execution_count": 13,
   "metadata": {
    "collapsed": false,
    "deletable": true,
    "editable": true
   },
   "outputs": [
    {
     "name": "stdout",
     "output_type": "stream",
     "text": [
      "Checking the Training on a Single Batch...\n",
      "Epoch  1, CIFAR-10 Batch 1:  Loss:    16.6014 Validation Accuracy: 0.367800\n",
      "Epoch  2, CIFAR-10 Batch 1:  Loss:     8.1756 Validation Accuracy: 0.413200\n",
      "Epoch  3, CIFAR-10 Batch 1:  Loss:     4.9679 Validation Accuracy: 0.471400\n",
      "Epoch  4, CIFAR-10 Batch 1:  Loss:     4.2751 Validation Accuracy: 0.454400\n",
      "Epoch  5, CIFAR-10 Batch 1:  Loss:     5.5156 Validation Accuracy: 0.457600\n",
      "Epoch  6, CIFAR-10 Batch 1:  Loss:     4.0639 Validation Accuracy: 0.468800\n",
      "Epoch  7, CIFAR-10 Batch 1:  Loss:     2.9684 Validation Accuracy: 0.477000\n",
      "Epoch  8, CIFAR-10 Batch 1:  Loss:     2.2758 Validation Accuracy: 0.521600\n",
      "Epoch  9, CIFAR-10 Batch 1:  Loss:     2.3955 Validation Accuracy: 0.496800\n",
      "Epoch 10, CIFAR-10 Batch 1:  Loss:     1.5747 Validation Accuracy: 0.510800\n",
      "Epoch 11, CIFAR-10 Batch 1:  Loss:     1.3165 Validation Accuracy: 0.537400\n",
      "Epoch 12, CIFAR-10 Batch 1:  Loss:     0.6662 Validation Accuracy: 0.508800\n",
      "Epoch 13, CIFAR-10 Batch 1:  Loss:     1.2016 Validation Accuracy: 0.514600\n",
      "Epoch 14, CIFAR-10 Batch 1:  Loss:     0.3966 Validation Accuracy: 0.527200\n",
      "Epoch 15, CIFAR-10 Batch 1:  Loss:     0.1806 Validation Accuracy: 0.519800\n",
      "Epoch 16, CIFAR-10 Batch 1:  Loss:     0.0057 Validation Accuracy: 0.510200\n",
      "Epoch 17, CIFAR-10 Batch 1:  Loss:     0.0773 Validation Accuracy: 0.557400\n",
      "Epoch 18, CIFAR-10 Batch 1:  Loss:     0.0326 Validation Accuracy: 0.536400\n",
      "Epoch 19, CIFAR-10 Batch 1:  Loss:     0.1096 Validation Accuracy: 0.531800\n",
      "Epoch 20, CIFAR-10 Batch 1:  Loss:     0.1397 Validation Accuracy: 0.541600\n",
      "Epoch 21, CIFAR-10 Batch 1:  Loss:     0.0034 Validation Accuracy: 0.518600\n",
      "Epoch 22, CIFAR-10 Batch 1:  Loss:     0.1932 Validation Accuracy: 0.488600\n",
      "Epoch 23, CIFAR-10 Batch 1:  Loss:     0.0039 Validation Accuracy: 0.518600\n",
      "Epoch 24, CIFAR-10 Batch 1:  Loss:     0.0026 Validation Accuracy: 0.539600\n",
      "Epoch 25, CIFAR-10 Batch 1:  Loss:     0.0089 Validation Accuracy: 0.541400\n",
      "Epoch 26, CIFAR-10 Batch 1:  Loss:     0.0647 Validation Accuracy: 0.535000\n",
      "Epoch 27, CIFAR-10 Batch 1:  Loss:     0.2901 Validation Accuracy: 0.556800\n",
      "Epoch 28, CIFAR-10 Batch 1:  Loss:     0.0004 Validation Accuracy: 0.546800\n",
      "Epoch 29, CIFAR-10 Batch 1:  Loss:     0.0454 Validation Accuracy: 0.523400\n",
      "Epoch 30, CIFAR-10 Batch 1:  Loss:     0.0005 Validation Accuracy: 0.546800\n"
     ]
    }
   ],
   "source": [
    "\"\"\"\n",
    "DON'T MODIFY ANYTHING IN THIS CELL\n",
    "\"\"\"\n",
    "print('Checking the Training on a Single Batch...')\n",
    "with tf.Session() as sess:\n",
    "    # Initializing the variables\n",
    "    sess.run(tf.global_variables_initializer())\n",
    "    \n",
    "    # Training cycle\n",
    "    for epoch in range(epochs):\n",
    "        batch_i = 1\n",
    "        for batch_features, batch_labels in helper.load_preprocess_training_batch(batch_i, batch_size):\n",
    "            train_neural_network(sess, optimizer, keep_probability, batch_features, batch_labels)\n",
    "        print('Epoch {:>2}, CIFAR-10 Batch {}:  '.format(epoch + 1, batch_i), end='')\n",
    "        print_stats(sess, batch_features, batch_labels, cost, accuracy)"
   ]
  },
  {
   "cell_type": "markdown",
   "metadata": {
    "deletable": true,
    "editable": true
   },
   "source": [
    "### Fully Train the Model\n",
    "Now that you got a good accuracy with a single CIFAR-10 batch, try it with all five batches."
   ]
  },
  {
   "cell_type": "code",
   "execution_count": 16,
   "metadata": {
    "collapsed": false,
    "deletable": true,
    "editable": true
   },
   "outputs": [
    {
     "name": "stdout",
     "output_type": "stream",
     "text": [
      "Training...\n",
      "Epoch  1, CIFAR-10 Batch 1:  Loss:    14.3325 Validation Accuracy: 0.383000\n",
      "Epoch  1, CIFAR-10 Batch 2:  Loss:     7.9978 Validation Accuracy: 0.441200\n",
      "Epoch  1, CIFAR-10 Batch 3:  Loss:     6.1501 Validation Accuracy: 0.479800\n",
      "Epoch  1, CIFAR-10 Batch 4:  Loss:     6.5535 Validation Accuracy: 0.494200\n",
      "Epoch  1, CIFAR-10 Batch 5:  Loss:     6.7047 Validation Accuracy: 0.489000\n",
      "Epoch  2, CIFAR-10 Batch 1:  Loss:     5.0446 Validation Accuracy: 0.507600\n",
      "Epoch  2, CIFAR-10 Batch 2:  Loss:     4.0034 Validation Accuracy: 0.521200\n",
      "Epoch  2, CIFAR-10 Batch 3:  Loss:     1.6253 Validation Accuracy: 0.533600\n",
      "Epoch  2, CIFAR-10 Batch 4:  Loss:     2.7034 Validation Accuracy: 0.535400\n",
      "Epoch  2, CIFAR-10 Batch 5:  Loss:     2.6956 Validation Accuracy: 0.521400\n",
      "Epoch  3, CIFAR-10 Batch 1:  Loss:     3.4571 Validation Accuracy: 0.548000\n",
      "Epoch  3, CIFAR-10 Batch 2:  Loss:     1.1366 Validation Accuracy: 0.532800\n",
      "Epoch  3, CIFAR-10 Batch 3:  Loss:     1.5070 Validation Accuracy: 0.559600\n",
      "Epoch  3, CIFAR-10 Batch 4:  Loss:     1.6757 Validation Accuracy: 0.559200\n",
      "Epoch  3, CIFAR-10 Batch 5:  Loss:     2.1499 Validation Accuracy: 0.578400\n",
      "Epoch  4, CIFAR-10 Batch 1:  Loss:     2.1344 Validation Accuracy: 0.560600\n",
      "Epoch  4, CIFAR-10 Batch 2:  Loss:     1.7327 Validation Accuracy: 0.547200\n",
      "Epoch  4, CIFAR-10 Batch 3:  Loss:     0.7176 Validation Accuracy: 0.538600\n",
      "Epoch  4, CIFAR-10 Batch 4:  Loss:     1.4217 Validation Accuracy: 0.563600\n",
      "Epoch  4, CIFAR-10 Batch 5:  Loss:     1.4499 Validation Accuracy: 0.573200\n",
      "Epoch  5, CIFAR-10 Batch 1:  Loss:     1.9009 Validation Accuracy: 0.556400\n",
      "Epoch  5, CIFAR-10 Batch 2:  Loss:     0.8366 Validation Accuracy: 0.551600\n",
      "Epoch  5, CIFAR-10 Batch 3:  Loss:     0.5980 Validation Accuracy: 0.572800\n",
      "Epoch  5, CIFAR-10 Batch 4:  Loss:     1.4426 Validation Accuracy: 0.526800\n",
      "Epoch  5, CIFAR-10 Batch 5:  Loss:     1.2656 Validation Accuracy: 0.555200\n",
      "Epoch  6, CIFAR-10 Batch 1:  Loss:     1.3085 Validation Accuracy: 0.574400\n",
      "Epoch  6, CIFAR-10 Batch 2:  Loss:     0.9859 Validation Accuracy: 0.593400\n",
      "Epoch  6, CIFAR-10 Batch 3:  Loss:     0.6831 Validation Accuracy: 0.598200\n",
      "Epoch  6, CIFAR-10 Batch 4:  Loss:     1.2960 Validation Accuracy: 0.533400\n",
      "Epoch  6, CIFAR-10 Batch 5:  Loss:     0.7446 Validation Accuracy: 0.590400\n",
      "Epoch  7, CIFAR-10 Batch 1:  Loss:     1.1398 Validation Accuracy: 0.571400\n",
      "Epoch  7, CIFAR-10 Batch 2:  Loss:     0.9529 Validation Accuracy: 0.566400\n",
      "Epoch  7, CIFAR-10 Batch 3:  Loss:     0.4419 Validation Accuracy: 0.562800\n",
      "Epoch  7, CIFAR-10 Batch 4:  Loss:     0.6633 Validation Accuracy: 0.591800\n",
      "Epoch  7, CIFAR-10 Batch 5:  Loss:     0.9990 Validation Accuracy: 0.565800\n",
      "Epoch  8, CIFAR-10 Batch 1:  Loss:     1.6348 Validation Accuracy: 0.565400\n",
      "Epoch  8, CIFAR-10 Batch 2:  Loss:     0.8200 Validation Accuracy: 0.558800\n",
      "Epoch  8, CIFAR-10 Batch 3:  Loss:     0.3072 Validation Accuracy: 0.581600\n",
      "Epoch  8, CIFAR-10 Batch 4:  Loss:     0.8656 Validation Accuracy: 0.570600\n",
      "Epoch  8, CIFAR-10 Batch 5:  Loss:     1.0424 Validation Accuracy: 0.567600\n",
      "Epoch  9, CIFAR-10 Batch 1:  Loss:     1.0120 Validation Accuracy: 0.579400\n",
      "Epoch  9, CIFAR-10 Batch 2:  Loss:     0.6365 Validation Accuracy: 0.580400\n",
      "Epoch  9, CIFAR-10 Batch 3:  Loss:     0.3959 Validation Accuracy: 0.566600\n",
      "Epoch  9, CIFAR-10 Batch 4:  Loss:     0.6231 Validation Accuracy: 0.579400\n",
      "Epoch  9, CIFAR-10 Batch 5:  Loss:     0.8842 Validation Accuracy: 0.570800\n",
      "Epoch 10, CIFAR-10 Batch 1:  Loss:     0.8805 Validation Accuracy: 0.558800\n",
      "Epoch 10, CIFAR-10 Batch 2:  Loss:     0.4366 Validation Accuracy: 0.582200\n",
      "Epoch 10, CIFAR-10 Batch 3:  Loss:     0.3164 Validation Accuracy: 0.579800\n",
      "Epoch 10, CIFAR-10 Batch 4:  Loss:     0.5119 Validation Accuracy: 0.568000\n",
      "Epoch 10, CIFAR-10 Batch 5:  Loss:     0.6623 Validation Accuracy: 0.564200\n",
      "Epoch 11, CIFAR-10 Batch 1:  Loss:     0.7704 Validation Accuracy: 0.593000\n",
      "Epoch 11, CIFAR-10 Batch 2:  Loss:     0.4853 Validation Accuracy: 0.538600\n",
      "Epoch 11, CIFAR-10 Batch 3:  Loss:     0.3231 Validation Accuracy: 0.607400\n",
      "Epoch 11, CIFAR-10 Batch 4:  Loss:     0.5410 Validation Accuracy: 0.556200\n",
      "Epoch 11, CIFAR-10 Batch 5:  Loss:     0.6745 Validation Accuracy: 0.544400\n",
      "Epoch 12, CIFAR-10 Batch 1:  Loss:     0.7706 Validation Accuracy: 0.582200\n",
      "Epoch 12, CIFAR-10 Batch 2:  Loss:     0.4457 Validation Accuracy: 0.551000\n",
      "Epoch 12, CIFAR-10 Batch 3:  Loss:     0.3407 Validation Accuracy: 0.577600\n",
      "Epoch 12, CIFAR-10 Batch 4:  Loss:     0.4997 Validation Accuracy: 0.556000\n",
      "Epoch 12, CIFAR-10 Batch 5:  Loss:     0.4754 Validation Accuracy: 0.573600\n",
      "Epoch 13, CIFAR-10 Batch 1:  Loss:     0.6839 Validation Accuracy: 0.574200\n",
      "Epoch 13, CIFAR-10 Batch 2:  Loss:     0.3870 Validation Accuracy: 0.558400\n",
      "Epoch 13, CIFAR-10 Batch 3:  Loss:     0.3597 Validation Accuracy: 0.573800\n",
      "Epoch 13, CIFAR-10 Batch 4:  Loss:     0.4849 Validation Accuracy: 0.553400\n",
      "Epoch 13, CIFAR-10 Batch 5:  Loss:     0.6615 Validation Accuracy: 0.557400\n",
      "Epoch 14, CIFAR-10 Batch 1:  Loss:     0.5663 Validation Accuracy: 0.556000\n",
      "Epoch 14, CIFAR-10 Batch 2:  Loss:     0.2310 Validation Accuracy: 0.581200\n",
      "Epoch 14, CIFAR-10 Batch 3:  Loss:     0.4471 Validation Accuracy: 0.563200\n",
      "Epoch 14, CIFAR-10 Batch 4:  Loss:     0.2995 Validation Accuracy: 0.582400\n",
      "Epoch 14, CIFAR-10 Batch 5:  Loss:     0.5860 Validation Accuracy: 0.560800\n",
      "Epoch 15, CIFAR-10 Batch 1:  Loss:     0.5850 Validation Accuracy: 0.567000\n",
      "Epoch 15, CIFAR-10 Batch 2:  Loss:     0.3983 Validation Accuracy: 0.556400\n",
      "Epoch 15, CIFAR-10 Batch 3:  Loss:     0.2518 Validation Accuracy: 0.586400\n",
      "Epoch 15, CIFAR-10 Batch 4:  Loss:     0.2859 Validation Accuracy: 0.562000\n",
      "Epoch 15, CIFAR-10 Batch 5:  Loss:     0.7461 Validation Accuracy: 0.546800\n",
      "Epoch 16, CIFAR-10 Batch 1:  Loss:     0.6714 Validation Accuracy: 0.494600\n",
      "Epoch 16, CIFAR-10 Batch 2:  Loss:     0.2783 Validation Accuracy: 0.562800\n",
      "Epoch 16, CIFAR-10 Batch 3:  Loss:     0.2827 Validation Accuracy: 0.592200\n",
      "Epoch 16, CIFAR-10 Batch 4:  Loss:     0.4206 Validation Accuracy: 0.556800\n",
      "Epoch 16, CIFAR-10 Batch 5:  Loss:     0.2825 Validation Accuracy: 0.573600\n",
      "Epoch 17, CIFAR-10 Batch 1:  Loss:     0.6300 Validation Accuracy: 0.580600\n",
      "Epoch 17, CIFAR-10 Batch 2:  Loss:     0.4752 Validation Accuracy: 0.570200\n",
      "Epoch 17, CIFAR-10 Batch 3:  Loss:     0.2757 Validation Accuracy: 0.585600\n",
      "Epoch 17, CIFAR-10 Batch 4:  Loss:     0.4242 Validation Accuracy: 0.561200\n",
      "Epoch 17, CIFAR-10 Batch 5:  Loss:     0.2515 Validation Accuracy: 0.564200\n",
      "Epoch 18, CIFAR-10 Batch 1:  Loss:     0.5387 Validation Accuracy: 0.565200\n",
      "Epoch 18, CIFAR-10 Batch 2:  Loss:     0.2324 Validation Accuracy: 0.592200\n",
      "Epoch 18, CIFAR-10 Batch 3:  Loss:     0.1645 Validation Accuracy: 0.574800\n",
      "Epoch 18, CIFAR-10 Batch 4:  Loss:     0.3287 Validation Accuracy: 0.572000\n",
      "Epoch 18, CIFAR-10 Batch 5:  Loss:     0.3642 Validation Accuracy: 0.564600\n",
      "Epoch 19, CIFAR-10 Batch 1:  Loss:     0.4457 Validation Accuracy: 0.560800\n",
      "Epoch 19, CIFAR-10 Batch 2:  Loss:     0.5586 Validation Accuracy: 0.531400\n",
      "Epoch 19, CIFAR-10 Batch 3:  Loss:     0.3383 Validation Accuracy: 0.531000\n",
      "Epoch 19, CIFAR-10 Batch 4:  Loss:     0.2514 Validation Accuracy: 0.559400\n",
      "Epoch 19, CIFAR-10 Batch 5:  Loss:     0.3234 Validation Accuracy: 0.567000\n",
      "Epoch 20, CIFAR-10 Batch 1:  Loss:     0.3749 Validation Accuracy: 0.569800\n",
      "Epoch 20, CIFAR-10 Batch 2:  Loss:     0.4822 Validation Accuracy: 0.561800\n",
      "Epoch 20, CIFAR-10 Batch 3:  Loss:     0.2433 Validation Accuracy: 0.565000\n",
      "Epoch 20, CIFAR-10 Batch 4:  Loss:     0.2719 Validation Accuracy: 0.561000\n",
      "Epoch 20, CIFAR-10 Batch 5:  Loss:     0.1916 Validation Accuracy: 0.568000\n",
      "Epoch 21, CIFAR-10 Batch 1:  Loss:     0.7784 Validation Accuracy: 0.491400\n",
      "Epoch 21, CIFAR-10 Batch 2:  Loss:     0.4403 Validation Accuracy: 0.541600\n",
      "Epoch 21, CIFAR-10 Batch 3:  Loss:     0.1510 Validation Accuracy: 0.564400\n",
      "Epoch 21, CIFAR-10 Batch 4:  Loss:     0.2499 Validation Accuracy: 0.561600\n",
      "Epoch 21, CIFAR-10 Batch 5:  Loss:     0.3736 Validation Accuracy: 0.560800\n",
      "Epoch 22, CIFAR-10 Batch 1:  Loss:     0.4164 Validation Accuracy: 0.550400\n",
      "Epoch 22, CIFAR-10 Batch 2:  Loss:     0.2768 Validation Accuracy: 0.527600\n",
      "Epoch 22, CIFAR-10 Batch 3:  Loss:     0.2357 Validation Accuracy: 0.547200\n",
      "Epoch 22, CIFAR-10 Batch 4:  Loss:     0.4403 Validation Accuracy: 0.537600\n",
      "Epoch 22, CIFAR-10 Batch 5:  Loss:     0.1439 Validation Accuracy: 0.555800\n",
      "Epoch 23, CIFAR-10 Batch 1:  Loss:     0.4996 Validation Accuracy: 0.527200\n",
      "Epoch 23, CIFAR-10 Batch 2:  Loss:     0.1173 Validation Accuracy: 0.590200\n",
      "Epoch 23, CIFAR-10 Batch 3:  Loss:     0.1018 Validation Accuracy: 0.579000\n",
      "Epoch 23, CIFAR-10 Batch 4:  Loss:     0.3438 Validation Accuracy: 0.539600\n",
      "Epoch 23, CIFAR-10 Batch 5:  Loss:     0.2033 Validation Accuracy: 0.559000\n",
      "Epoch 24, CIFAR-10 Batch 1:  Loss:     0.2324 Validation Accuracy: 0.558200\n",
      "Epoch 24, CIFAR-10 Batch 2:  Loss:     0.3714 Validation Accuracy: 0.524600\n",
      "Epoch 24, CIFAR-10 Batch 3:  Loss:     0.1849 Validation Accuracy: 0.567400\n",
      "Epoch 24, CIFAR-10 Batch 4:  Loss:     0.1732 Validation Accuracy: 0.553200\n",
      "Epoch 24, CIFAR-10 Batch 5:  Loss:     0.1873 Validation Accuracy: 0.522800\n",
      "Epoch 25, CIFAR-10 Batch 1:  Loss:     0.1803 Validation Accuracy: 0.564000\n",
      "Epoch 25, CIFAR-10 Batch 2:  Loss:     0.2191 Validation Accuracy: 0.558400\n",
      "Epoch 25, CIFAR-10 Batch 3:  Loss:     0.1151 Validation Accuracy: 0.576400\n",
      "Epoch 25, CIFAR-10 Batch 4:  Loss:     0.3037 Validation Accuracy: 0.556400\n",
      "Epoch 25, CIFAR-10 Batch 5:  Loss:     0.1651 Validation Accuracy: 0.543600\n",
      "Epoch 26, CIFAR-10 Batch 1:  Loss:     0.2481 Validation Accuracy: 0.559400\n",
      "Epoch 26, CIFAR-10 Batch 2:  Loss:     0.1660 Validation Accuracy: 0.538400\n",
      "Epoch 26, CIFAR-10 Batch 3:  Loss:     0.1255 Validation Accuracy: 0.552800\n",
      "Epoch 26, CIFAR-10 Batch 4:  Loss:     0.2066 Validation Accuracy: 0.545200\n",
      "Epoch 26, CIFAR-10 Batch 5:  Loss:     0.3267 Validation Accuracy: 0.519200\n",
      "Epoch 27, CIFAR-10 Batch 1:  Loss:     0.3826 Validation Accuracy: 0.532400\n",
      "Epoch 27, CIFAR-10 Batch 2:  Loss:     0.1246 Validation Accuracy: 0.564200\n",
      "Epoch 27, CIFAR-10 Batch 3:  Loss:     0.0508 Validation Accuracy: 0.561600\n",
      "Epoch 27, CIFAR-10 Batch 4:  Loss:     0.1195 Validation Accuracy: 0.582200\n",
      "Epoch 27, CIFAR-10 Batch 5:  Loss:     0.1180 Validation Accuracy: 0.568000\n",
      "Epoch 28, CIFAR-10 Batch 1:  Loss:     0.1702 Validation Accuracy: 0.562000\n",
      "Epoch 28, CIFAR-10 Batch 2:  Loss:     0.0793 Validation Accuracy: 0.529000\n",
      "Epoch 28, CIFAR-10 Batch 3:  Loss:     0.0652 Validation Accuracy: 0.571200\n",
      "Epoch 28, CIFAR-10 Batch 4:  Loss:     0.4620 Validation Accuracy: 0.505800\n",
      "Epoch 28, CIFAR-10 Batch 5:  Loss:     0.1078 Validation Accuracy: 0.538000\n",
      "Epoch 29, CIFAR-10 Batch 1:  Loss:     0.3865 Validation Accuracy: 0.539200\n",
      "Epoch 29, CIFAR-10 Batch 2:  Loss:     0.1185 Validation Accuracy: 0.531600\n",
      "Epoch 29, CIFAR-10 Batch 3:  Loss:     0.0507 Validation Accuracy: 0.558000\n",
      "Epoch 29, CIFAR-10 Batch 4:  Loss:     0.1646 Validation Accuracy: 0.552200\n",
      "Epoch 29, CIFAR-10 Batch 5:  Loss:     0.1654 Validation Accuracy: 0.518200\n",
      "Epoch 30, CIFAR-10 Batch 1:  Loss:     0.0750 Validation Accuracy: 0.514800\n",
      "Epoch 30, CIFAR-10 Batch 2:  Loss:     0.1288 Validation Accuracy: 0.524600\n",
      "Epoch 30, CIFAR-10 Batch 3:  Loss:     0.1429 Validation Accuracy: 0.525400\n",
      "Epoch 30, CIFAR-10 Batch 4:  Loss:     0.1124 Validation Accuracy: 0.549000\n",
      "Epoch 30, CIFAR-10 Batch 5:  Loss:     0.0984 Validation Accuracy: 0.550400\n"
     ]
    }
   ],
   "source": [
    "\"\"\"\n",
    "DON'T MODIFY ANYTHING IN THIS CELL\n",
    "\"\"\"\n",
    "save_model_path = './image_classification'\n",
    "\n",
    "print('Training...')\n",
    "with tf.Session() as sess:\n",
    "    # Initializing the variables\n",
    "    sess.run(tf.global_variables_initializer())\n",
    "    \n",
    "    # Training cycle\n",
    "    for epoch in range(epochs):\n",
    "        # Loop over all batches\n",
    "        n_batches = 5\n",
    "        for batch_i in range(1, n_batches + 1):\n",
    "            for batch_features, batch_labels in helper.load_preprocess_training_batch(batch_i, batch_size):\n",
    "                train_neural_network(sess, optimizer, keep_probability, batch_features, batch_labels)\n",
    "            print('Epoch {:>2}, CIFAR-10 Batch {}:  '.format(epoch + 1, batch_i), end='')\n",
    "            print_stats(sess, batch_features, batch_labels, cost, accuracy)\n",
    "            \n",
    "    # Save Model\n",
    "    saver = tf.train.Saver()\n",
    "    save_path = saver.save(sess, save_model_path)"
   ]
  },
  {
   "cell_type": "markdown",
   "metadata": {
    "deletable": true,
    "editable": true
   },
   "source": [
    "# Checkpoint\n",
    "The model has been saved to disk.\n",
    "## Test Model\n",
    "Test your model against the test dataset.  This will be your final accuracy. You should have an accuracy greater than 50%. If you don't, keep tweaking the model architecture and parameters."
   ]
  },
  {
   "cell_type": "code",
   "execution_count": 17,
   "metadata": {
    "collapsed": false,
    "deletable": true,
    "editable": true
   },
   "outputs": [
    {
     "name": "stdout",
     "output_type": "stream",
     "text": [
      "Testing Accuracy: 0.5578520569620253\n",
      "\n"
     ]
    },
    {
     "data": {
      "image/png": "[encoded data removed]",
      "text/plain": [
       "<matplotlib.figure.Figure at 0x7f111e841f28>"
      ]
     },
     "metadata": {
      "image/png": {
       "height": 319,
       "width": 355
      }
     },
     "output_type": "display_data"
    }
   ],
   "source": [
    "\"\"\"\n",
    "DON'T MODIFY ANYTHING IN THIS CELL\n",
    "\"\"\"\n",
    "%matplotlib inline\n",
    "%config InlineBackend.figure_format = 'retina'\n",
    "\n",
    "import tensorflow as tf\n",
    "import pickle\n",
    "import helper\n",
    "import random\n",
    "\n",
    "# Set batch size if not already set\n",
    "try:\n",
    "    if batch_size:\n",
    "        pass\n",
    "except NameError:\n",
    "    batch_size = 64\n",
    "\n",
    "save_model_path = './image_classification'\n",
    "n_samples = 4\n",
    "top_n_predictions = 3\n",
    "\n",
    "def test_model():\n",
    "    \"\"\"\n",
    "    Test the saved model against the test dataset\n",
    "    \"\"\"\n",
    "\n",
    "    test_features, test_labels = pickle.load(open('preprocess_training.p', mode='rb'))\n",
    "    loaded_graph = tf.Graph()\n",
    "\n",
    "    with tf.Session(graph=loaded_graph) as sess:\n",
    "        # Load model\n",
    "        loader = tf.train.import_meta_graph(save_model_path + '.meta')\n",
    "        loader.restore(sess, save_model_path)\n",
    "\n",
    "        # Get Tensors from loaded model\n",
    "        loaded_x = loaded_graph.get_tensor_by_name('x:0')\n",
    "        loaded_y = loaded_graph.get_tensor_by_name('y:0')\n",
    "        loaded_keep_prob = loaded_graph.get_tensor_by_name('keep_prob:0')\n",
    "        loaded_logits = loaded_graph.get_tensor_by_name('logits:0')\n",
    "        loaded_acc = loaded_graph.get_tensor_by_name('accuracy:0')\n",
    "        \n",
    "        # Get accuracy in batches for memory limitations\n",
    "        test_batch_acc_total = 0\n",
    "        test_batch_count = 0\n",
    "        \n",
    "        for train_feature_batch, train_label_batch in helper.batch_features_labels(test_features, test_labels, batch_size):\n",
    "            test_batch_acc_total += sess.run(\n",
    "                loaded_acc,\n",
    "                feed_dict={loaded_x: train_feature_batch, loaded_y: train_label_batch, loaded_keep_prob: 1.0})\n",
    "            test_batch_count += 1\n",
    "\n",
    "        print('Testing Accuracy: {}\\n'.format(test_batch_acc_total/test_batch_count))\n",
    "\n",
    "        # Print Random Samples\n",
    "        random_test_features, random_test_labels = tuple(zip(*random.sample(list(zip(test_features, test_labels)), n_samples)))\n",
    "        random_test_predictions = sess.run(\n",
    "            tf.nn.top_k(tf.nn.softmax(loaded_logits), top_n_predictions),\n",
    "            feed_dict={loaded_x: random_test_features, loaded_y: random_test_labels, loaded_keep_prob: 1.0})\n",
    "        helper.display_image_predictions(random_test_features, random_test_labels, random_test_predictions)\n",
    "\n",
    "\n",
    "test_model()"
   ]
  },
  {
   "cell_type": "markdown",
   "metadata": {
    "deletable": true,
    "editable": true
   },
   "source": [
    "## Why 50-80% Accuracy?\n",
    "You might be wondering why you can't get an accuracy any higher. First things first, 50% isn't bad for a simple CNN.  Pure guessing would get you 10% accuracy. However, you might notice people are getting scores [well above 80%](http://rodrigob.github.io/are_we_there_yet/build/classification_datasets_results.html#43494641522d3130).  That's because we haven't taught you all there is to know about neural networks. We still need to cover a few more techniques.\n",
    "## Submitting This Project\n",
    "When submitting this project, make sure to run all the cells before saving the notebook.  Save the notebook file as \"dlnd_image_classification.ipynb\" and save it as a HTML file under \"File\" -> \"Download as\".  Include the \"helper.py\" and \"problem_unittests.py\" files in your submission."
   ]
  }
 ],
 "metadata": {
  "kernelspec": {
   "display_name": "Python 3",
   "language": "python",
   "name": "python3"
  },
  "language_info": {
   "codemirror_mode": {
    "name": "ipython",
    "version": 3
   },
   "file_extension": ".py",
   "mimetype": "text/x-python",
   "name": "python",
   "nbconvert_exporter": "python",
   "pygments_lexer": "ipython3",
   "version": "3.5.2"
  },
  "widgets": {
   "state": {},
   "version": "1.1.2"
  }
 },
 "nbformat": 4,
 "nbformat_minor": 0
}
